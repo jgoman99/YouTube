{
 "cells": [
  {
   "cell_type": "code",
   "execution_count": null,
   "metadata": {},
   "outputs": [],
   "source": [
    "import matplotlib.pyplot as plt\n",
    "import os\n",
    "import pandas as pd\n",
    "import geopandas\n",
    "import numpy as np\n",
    "import os\n",
    "import moviepy.video.io.ImageSequenceClip\n",
    "from moviepy.editor import AudioFileClip\n",
    "\n",
    "# delete existing files\n",
    "for f in os.listdir(\"../Plots/Airports/\"):\n",
    "    os.remove(os.path.join(\"../Plots/Airports/\", f))\n",
    "\n",
    "# Load airport data\n",
    "\n",
    "# data is from https://openflights.org/data#airlines\n",
    "# removed '\\N' values from the data + added column names\n",
    "data = pd.read_csv('../Data/airports.csv', encoding='utf-8')"
   ]
  },
  {
   "cell_type": "code",
   "execution_count": null,
   "metadata": {},
   "outputs": [],
   "source": [
    "# Transform data\n",
    "\n",
    "# subset data\n",
    "data = data[['airport_id','city','country','latitude','longitude','altitude']]\n",
    "# Remove rows with missing values\n",
    "data = data.dropna()\n",
    "\n",
    "\n",
    "# cut altitude into 300 bins with the same count\n",
    "\n",
    "# note, since we can't use qcut due to duplicates, we'll cheat and give altitude a small random noise\n",
    "data['altitude'] = data['altitude'] + np.random.uniform(-1,1,len(data))\n",
    "data['altitude_cuts'] = pd.qcut(data['altitude'], q=300)\n",
    "\n",
    "# categorize as unique integers\n",
    "data['altitude_group'] = data['altitude_cuts'].astype('category').cat.codes"
   ]
  },
  {
   "cell_type": "code",
   "execution_count": null,
   "metadata": {},
   "outputs": [],
   "source": [
    "# plot\n",
    "\n",
    "# Getting world map data from geo pandas\n",
    "worldmap = geopandas.read_file(geopandas.datasets.get_path(\"naturalearth_lowres\"))\n",
    "\n",
    "# Creating axes and plotting world map\n",
    "fig = plt.figure(figsize=(16,9)) \n",
    "\n",
    "# Create axes\n",
    "ax = fig.add_subplot(111)\n",
    "\n",
    "ax.set_xlim([-180,180])\n",
    "ax.set_ylim([-90,90])\n",
    "ax.set_axis_off()\n",
    "\n",
    "map = worldmap.plot(color=\"lightgrey\", ax=ax)\n",
    "\n",
    "frames = data.altitude_group.nunique()\n",
    "\n",
    "# create a list of colors of size frames\n",
    "colors = plt.cm.terrain(np.linspace(0, 1, frames))\n",
    "\n",
    "for i in range(frames):\n",
    "    data[data['altitude_group']==i].plot(x='longitude', y='latitude', kind='scatter',color =  colors[i],s=1, ax=ax)\n",
    "    # get average altitude\n",
    "    avg_altitude = data[data['altitude_group']==i]['altitude'].mean()\n",
    "    plt.title(f'Airports by Elevation: {round(avg_altitude)} (ft)', fontsize=20)\n",
    "    # 300 is good dpi, but for fast lets do 80\n",
    "    plt.savefig(f'../Plots/Airports/{i}.jpg', bbox_inches='tight', pad_inches=0, dpi=200) "
   ]
  },
  {
   "cell_type": "code",
   "execution_count": null,
   "metadata": {},
   "outputs": [],
   "source": [
    "# Create video\n",
    "image_folder= '../Plots/Airports/'\n",
    "\n",
    "# frames per second\n",
    "fps=10\n",
    "\n",
    "image_files = [os.path.join(image_folder,img)\n",
    "               for img in os.listdir(image_folder)\n",
    "               if img.endswith(\".jpg\")]\n",
    "\n",
    "# sort images by number\n",
    "image_files = sorted(image_files, key=lambda x: int(x.split('/')[-1].split('.')[0]))\n",
    "\n",
    "\n",
    "clip = moviepy.video.io.ImageSequenceClip.ImageSequenceClip(image_files, fps=fps)\n",
    "\n",
    "# resize to 1080p\n",
    "clip_resized = clip.resize( (1920,1080) )\n",
    "\n",
    "# add audio\n",
    "audioclip = AudioFileClip(\"../Assets/Kevin MacLeod - Reaching Out.mp3\")\n",
    "clip_resized.audio = audioclip.set_duration(clip_resized.duration)\n",
    "\n",
    "clip_resized.write_videofile('../Videos/airports.mp4')"
   ]
  }
 ],
 "metadata": {
  "kernelspec": {
   "display_name": "Python 3",
   "language": "python",
   "name": "python3"
  },
  "language_info": {
   "name": "python",
   "version": "3.11.5"
  }
 },
 "nbformat": 4,
 "nbformat_minor": 2
}
